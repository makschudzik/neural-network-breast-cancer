{
 "cells": [
  {
   "cell_type": "markdown",
   "id": "248e6428",
   "metadata": {},
   "source": [
    "<h1 style=\"font-weight: bold; color: gold;\">Breast Cancer Classification Using Artificial Neural Network (ANN)</h1> <h2> Goal: Classify breast cancer tumors as benign (0) or malignant (1) using a neural network built with TensorFlow/Keras. </h2>"
   ]
  },
  {
   "cell_type": "markdown",
   "id": "1f2af114",
   "metadata": {},
   "source": [
    "<h2> 1. Importing the Required Libraries </h2>"
   ]
  },
  {
   "cell_type": "code",
   "execution_count": 1,
   "id": "15d4d401",
   "metadata": {},
   "outputs": [],
   "source": [
    "import numpy as np\n",
    "import matplotlib.pyplot as plt\n",
    "import seaborn as sns\n",
    "import pandas as pd\n",
    "\n",
    "from sklearn.datasets import load_breast_cancer\n",
    "from sklearn.model_selection import train_test_split\n",
    "from sklearn.preprocessing import StandardScaler\n",
    "from sklearn.metrics import confusion_matrix, accuracy_score, precision_score, recall_score\n",
    "\n",
    "from tensorflow.keras.models import Sequential\n",
    "from tensorflow.keras.layers import Dense"
   ]
  },
  {
   "cell_type": "markdown",
   "id": "a7731bcf",
   "metadata": {},
   "source": [
    "<h2> 2. Loading and Preparing the Dataset </h2>"
   ]
  },
  {
   "cell_type": "code",
   "execution_count": 6,
   "id": "9e85a0ca",
   "metadata": {},
   "outputs": [
    {
     "data": {
      "text/plain": [
       "(569, 31)"
      ]
     },
     "execution_count": 6,
     "metadata": {},
     "output_type": "execute_result"
    }
   ],
   "source": [
    "# Load the breast cancer dataset from scikit-learn\n",
    "breast_cancer = load_breast_cancer()\n",
    "\n",
    "# Convert it into a DataFrame\n",
    "data_frame = pd.DataFrame(breast_cancer.data, columns=breast_cancer.feature_names)\n",
    "data_frame['label'] = breast_cancer.target  # Add the target labels (0 = benign, 1 = malignant)\n",
    "\n",
    "\n",
    "# Remove duplicates and missing values if any\n",
    "data_frame.dropna(inplace=True)\n",
    "data_frame.drop_duplicates(inplace=True)\n",
    "\n",
    "# Split features (X) and labels (Y)\n",
    "X = data_frame.drop(columns='label', axis=1)\n",
    "Y = data_frame['label']\n",
    "\n",
    "# Shape of DataFrame\n",
    "data_frame.shape"
   ]
  },
  {
   "cell_type": "markdown",
   "id": "f852c4f1",
   "metadata": {},
   "source": [
    "<h2> 3. Data Normalization and Splitting </h2>"
   ]
  },
  {
   "cell_type": "code",
   "execution_count": 4,
   "id": "24991f71",
   "metadata": {},
   "outputs": [
    {
     "name": "stdout",
     "output_type": "stream",
     "text": [
      "Training set shape: (455, 30)\n",
      "Testing set shape:  (114, 30)\n"
     ]
    }
   ],
   "source": [
    "# Standardize the feature data (zero mean, unit variance)\n",
    "scaler = StandardScaler()\n",
    "X_scaled = scaler.fit_transform(X)\n",
    "\n",
    "# Split into training and test sets (80% train, 20% test)\n",
    "X_train, X_test, Y_train, Y_test = train_test_split(X_scaled, Y, test_size=0.2, stratify=Y, random_state=1)\n",
    "\n",
    "print(\"Training set shape:\", X_train.shape)\n",
    "print(\"Testing set shape: \", X_test.shape)"
   ]
  },
  {
   "cell_type": "markdown",
   "id": "b5fcd666",
   "metadata": {},
   "source": [
    "<h2> 4. Building the Neural Network Model </h2>"
   ]
  },
  {
   "cell_type": "code",
   "execution_count": 7,
   "id": "09079b7a",
   "metadata": {},
   "outputs": [
    {
     "name": "stderr",
     "output_type": "stream",
     "text": [
      "c:\\Users\\majec\\OneDrive\\Projekty python\\ANN\\venv\\Lib\\site-packages\\keras\\src\\layers\\core\\dense.py:93: UserWarning: Do not pass an `input_shape`/`input_dim` argument to a layer. When using Sequential models, prefer using an `Input(shape)` object as the first layer in the model instead.\n",
      "  super().__init__(activity_regularizer=activity_regularizer, **kwargs)\n"
     ]
    }
   ],
   "source": [
    "# Define a simple feedforward neural network\n",
    "model = Sequential([\n",
    "    Dense(10, activation='relu', input_shape=(30,)),   # 1 hidden layer with 10 neurons\n",
    "    Dense(2, activation='softmax')                      # Output layer for 2 classes\n",
    "])\n",
    "\n",
    "# Compile the model with appropriate loss and optimizer\n",
    "model.compile(optimizer='adam',\n",
    "              loss='sparse_categorical_crossentropy',\n",
    "              metrics=['accuracy'])\n"
   ]
  },
  {
   "cell_type": "markdown",
   "id": "24afeced",
   "metadata": {},
   "source": [
    "<h2> 5. Training the Model </h2>"
   ]
  },
  {
   "cell_type": "code",
   "execution_count": 8,
   "id": "ca732f98",
   "metadata": {},
   "outputs": [
    {
     "name": "stdout",
     "output_type": "stream",
     "text": [
      "Epoch 1/10\n",
      "\u001b[1m15/15\u001b[0m \u001b[32m━━━━━━━━━━━━━━━━━━━━\u001b[0m\u001b[37m\u001b[0m \u001b[1m1s\u001b[0m 21ms/step - accuracy: 0.5750 - loss: 0.7065 - val_accuracy: 0.6140 - val_loss: 0.6505\n",
      "Epoch 2/10\n",
      "\u001b[1m15/15\u001b[0m \u001b[32m━━━━━━━━━━━━━━━━━━━━\u001b[0m\u001b[37m\u001b[0m \u001b[1m0s\u001b[0m 8ms/step - accuracy: 0.6629 - loss: 0.6121 - val_accuracy: 0.7193 - val_loss: 0.4982\n",
      "Epoch 3/10\n",
      "\u001b[1m15/15\u001b[0m \u001b[32m━━━━━━━━━━━━━━━━━━━━\u001b[0m\u001b[37m\u001b[0m \u001b[1m0s\u001b[0m 6ms/step - accuracy: 0.7630 - loss: 0.4600 - val_accuracy: 0.7982 - val_loss: 0.3920\n",
      "Epoch 4/10\n",
      "\u001b[1m15/15\u001b[0m \u001b[32m━━━━━━━━━━━━━━━━━━━━\u001b[0m\u001b[37m\u001b[0m \u001b[1m0s\u001b[0m 6ms/step - accuracy: 0.8345 - loss: 0.3712 - val_accuracy: 0.8860 - val_loss: 0.3100\n",
      "Epoch 5/10\n",
      "\u001b[1m15/15\u001b[0m \u001b[32m━━━━━━━━━━━━━━━━━━━━\u001b[0m\u001b[37m\u001b[0m \u001b[1m0s\u001b[0m 6ms/step - accuracy: 0.9114 - loss: 0.3092 - val_accuracy: 0.9386 - val_loss: 0.2509\n",
      "Epoch 6/10\n",
      "\u001b[1m15/15\u001b[0m \u001b[32m━━━━━━━━━━━━━━━━━━━━\u001b[0m\u001b[37m\u001b[0m \u001b[1m0s\u001b[0m 6ms/step - accuracy: 0.9433 - loss: 0.2539 - val_accuracy: 0.9474 - val_loss: 0.2074\n",
      "Epoch 7/10\n",
      "\u001b[1m15/15\u001b[0m \u001b[32m━━━━━━━━━━━━━━━━━━━━\u001b[0m\u001b[37m\u001b[0m \u001b[1m0s\u001b[0m 6ms/step - accuracy: 0.9297 - loss: 0.2221 - val_accuracy: 0.9561 - val_loss: 0.1793\n",
      "Epoch 8/10\n",
      "\u001b[1m15/15\u001b[0m \u001b[32m━━━━━━━━━━━━━━━━━━━━\u001b[0m\u001b[37m\u001b[0m \u001b[1m0s\u001b[0m 7ms/step - accuracy: 0.9475 - loss: 0.1935 - val_accuracy: 0.9649 - val_loss: 0.1586\n",
      "Epoch 9/10\n",
      "\u001b[1m15/15\u001b[0m \u001b[32m━━━━━━━━━━━━━━━━━━━━\u001b[0m\u001b[37m\u001b[0m \u001b[1m0s\u001b[0m 6ms/step - accuracy: 0.9669 - loss: 0.1691 - val_accuracy: 0.9649 - val_loss: 0.1449\n",
      "Epoch 10/10\n",
      "\u001b[1m15/15\u001b[0m \u001b[32m━━━━━━━━━━━━━━━━━━━━\u001b[0m\u001b[37m\u001b[0m \u001b[1m0s\u001b[0m 8ms/step - accuracy: 0.9509 - loss: 0.1640 - val_accuracy: 0.9737 - val_loss: 0.1332\n"
     ]
    }
   ],
   "source": [
    "# Train the model for 10 epochs using training data\n",
    "mod = model.fit(X_train, Y_train, epochs=10, validation_data=(X_test, Y_test))"
   ]
  },
  {
   "cell_type": "markdown",
   "id": "0ae29b56",
   "metadata": {},
   "source": [
    "<h2> 6. Evaluating Model Performance </h2>"
   ]
  },
  {
   "cell_type": "code",
   "execution_count": 9,
   "id": "2f696b4d",
   "metadata": {},
   "outputs": [
    {
     "name": "stdout",
     "output_type": "stream",
     "text": [
      "\u001b[1m4/4\u001b[0m \u001b[32m━━━━━━━━━━━━━━━━━━━━\u001b[0m\u001b[37m\u001b[0m \u001b[1m0s\u001b[0m 7ms/step - accuracy: 0.9832 - loss: 0.1324 \n",
      "Test Accuracy: 0.9736841917037964\n"
     ]
    }
   ],
   "source": [
    "# Evaluate the trained model on the test data\n",
    "test_loss, test_acc = model.evaluate(X_test, Y_test)\n",
    "print('Test Accuracy:', test_acc)"
   ]
  },
  {
   "cell_type": "markdown",
   "id": "a937b3f2",
   "metadata": {},
   "source": [
    "<h2> 7. Predictions and Confusion Matrix </h2>"
   ]
  },
  {
   "cell_type": "code",
   "execution_count": 10,
   "id": "08ab378a",
   "metadata": {},
   "outputs": [
    {
     "name": "stdout",
     "output_type": "stream",
     "text": [
      "\u001b[1m4/4\u001b[0m \u001b[32m━━━━━━━━━━━━━━━━━━━━\u001b[0m\u001b[37m\u001b[0m \u001b[1m0s\u001b[0m 12ms/step\n",
      "Confusion Matrix:\n",
      "[[40  2]\n",
      " [ 1 71]]\n"
     ]
    },
    {
     "data": {
      "image/png": "[encoded data removed]",
      "text/plain": [
       "<Figure size 640x480 with 2 Axes>"
      ]
     },
     "metadata": {},
     "output_type": "display_data"
    }
   ],
   "source": [
    "# Generate predictions on the test set\n",
    "y_pred = np.argmax(model.predict(X_test), axis=1)\n",
    "\n",
    "# Compute confusion matrix\n",
    "conf_matrix = confusion_matrix(Y_test, y_pred)\n",
    "print(\"Confusion Matrix:\")\n",
    "print(conf_matrix)\n",
    "\n",
    "# Plot the confusion matrix as a heatmap\n",
    "sns.heatmap(conf_matrix, annot=True, fmt=\"d\", cmap=\"Blues\")\n",
    "plt.xlabel('Predicted')\n",
    "plt.ylabel('Actual')\n",
    "plt.title('Confusion Matrix')\n",
    "plt.show()"
   ]
  },
  {
   "cell_type": "markdown",
   "id": "3e0a59ef",
   "metadata": {},
   "source": [
    "<h2> 8. Visualizing Accuracy During Training </h2>"
   ]
  },
  {
   "cell_type": "code",
   "execution_count": 11,
   "id": "31ce3b61",
   "metadata": {},
   "outputs": [
    {
     "data": {
      "image/png": "[encoded data removed]",
      "text/plain": [
       "<Figure size 640x480 with 1 Axes>"
      ]
     },
     "metadata": {},
     "output_type": "display_data"
    }
   ],
   "source": [
    "# Plot training and validation accuracy over epochs\n",
    "plt.plot(mod.history['accuracy'], label='Training Accuracy')\n",
    "plt.plot(mod.history['val_accuracy'], label='Validation Accuracy')\n",
    "\n",
    "plt.title('Model Accuracy Over Epochs')\n",
    "plt.ylabel('Accuracy')\n",
    "plt.xlabel('Epoch')\n",
    "plt.legend(loc='lower right')\n",
    "plt.grid(True)\n",
    "plt.show()"
   ]
  },
  {
   "cell_type": "markdown",
   "id": "0e3e2ccf",
   "metadata": {},
   "source": [
    "<h2> 9. Calculating Metrics: Accuracy, Precision, Recall, Specificit </h2>"
   ]
  },
  {
   "cell_type": "code",
   "execution_count": 13,
   "id": "8aed7df1",
   "metadata": {},
   "outputs": [
    {
     "name": "stdout",
     "output_type": "stream",
     "text": [
      "➡️ Accuracy:           0.9737\n",
      "➡️ Precision:          0.9726\n",
      "➡️ Recall (Sensitivity): 0.9861\n",
      "➡️ Specificity:        0.9524\n"
     ]
    }
   ],
   "source": [
    "# Unpack confusion matrix values\n",
    "TN, FP, FN, TP = conf_matrix.ravel()\n",
    "\n",
    "# Calculate performance metrics\n",
    "accuracy = accuracy_score(Y_test, y_pred)\n",
    "precision = precision_score(Y_test, y_pred)\n",
    "recall = recall_score(Y_test, y_pred)\n",
    "specificity = TN / (TN + FP)\n",
    "\n",
    "# Print the results\n",
    "print(f\"➡️ Accuracy:           {accuracy:.4f}\")\n",
    "print(f\"➡️ Precision:          {precision:.4f}\")\n",
    "print(f\"➡️ Recall (Sensitivity): {recall:.4f}\")\n",
    "print(f\"➡️ Specificity:        {specificity:.4f}\")\n"
   ]
  }
 ],
 "metadata": {
  "kernelspec": {
   "display_name": "venv",
   "language": "python",
   "name": "python3"
  },
  "language_info": {
   "codemirror_mode": {
    "name": "ipython",
    "version": 3
   },
   "file_extension": ".py",
   "mimetype": "text/x-python",
   "name": "python",
   "nbconvert_exporter": "python",
   "pygments_lexer": "ipython3",
   "version": "3.12.8"
  }
 },
 "nbformat": 4,
 "nbformat_minor": 5
}
